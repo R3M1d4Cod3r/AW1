{
  "nbformat": 4,
  "nbformat_minor": 0,
  "metadata": {
    "colab": {
      "provenance": [],
      "gpuType": "T4",
      "include_colab_link": true
    },
    "kernelspec": {
      "name": "python3",
      "display_name": "Python 3"
    },
    "language_info": {
      "name": "python"
    },
    "accelerator": "GPU"
  },
  "cells": [
    {
      "cell_type": "markdown",
      "metadata": {
        "id": "view-in-github",
        "colab_type": "text"
      },
      "source": [
        "<a href=\"https://colab.research.google.com/github/R3M1d4Cod3r/AW1/blob/master/backbone_exercise_3_grl__starter_code.ipynb\" target=\"_parent\"><img src=\"https://colab.research.google.com/assets/colab-badge.svg\" alt=\"Open In Colab\"/></a>"
      ]
    },
    {
      "cell_type": "markdown",
      "source": [
        "**SCHELETRO PER IL PROGETTO DI ANOMALY SEGMENTATION**"
      ],
      "metadata": {
        "id": "jr492jxY5BV8"
      }
    },
    {
      "cell_type": "markdown",
      "source": [
        "[![Open In Colab](https://colab.research.google.com/assets/colab-badge.svg)](https://colab.research.google.com/github/googlecolab/colabtools/blob/master/notebooks/colab-github-demo.ipynb)\n"
      ],
      "metadata": {
        "id": "M06H8FSt71lK"
      }
    },
    {
      "cell_type": "markdown",
      "source": [
        "**DOWNLOAD DATASET & SETUP THE ENVIRONMENT**"
      ],
      "metadata": {
        "id": "C_Zm_LPoFdE5"
      }
    },
    {
      "cell_type": "code",
      "execution_count": null,
      "metadata": {
        "id": "o19xJiPGC_1t",
        "colab": {
          "base_uri": "https://localhost:8080/"
        },
        "outputId": "a9c90404-f441-4ddc-87fb-2bc5e234009e",
        "collapsed": true
      },
      "outputs": [
        {
          "output_type": "stream",
          "name": "stdout",
          "text": [
            "Cloning into 'Homework3-PACS'...\n",
            "remote: Enumerating objects: 10032, done.\u001b[K\n",
            "remote: Total 10032 (delta 0), reused 0 (delta 0), pack-reused 10032 (from 1)\u001b[K\n",
            "Receiving objects: 100% (10032/10032), 174.13 MiB | 31.67 MiB/s, done.\n",
            "Resolving deltas: 100% (1/1), done.\n",
            "Updating files: 100% (9993/9993), done.\n",
            "Cloning into 'DANN_Template'...\n",
            "remote: Enumerating objects: 23, done.\u001b[K\n",
            "remote: Total 23 (delta 0), reused 0 (delta 0), pack-reused 23 (from 1)\u001b[K\n",
            "Receiving objects: 100% (23/23), 33.86 KiB | 1.47 MiB/s, done.\n",
            "Resolving deltas: 100% (5/5), done.\n",
            "Collecting torchmetrics\n",
            "  Downloading torchmetrics-1.6.0-py3-none-any.whl.metadata (20 kB)\n",
            "Requirement already satisfied: numpy>1.20.0 in /usr/local/lib/python3.10/dist-packages (from torchmetrics) (1.26.4)\n",
            "Requirement already satisfied: packaging>17.1 in /usr/local/lib/python3.10/dist-packages (from torchmetrics) (24.2)\n",
            "Requirement already satisfied: torch>=2.0.0 in /usr/local/lib/python3.10/dist-packages (from torchmetrics) (2.5.1+cu121)\n",
            "Collecting lightning-utilities>=0.8.0 (from torchmetrics)\n",
            "  Downloading lightning_utilities-0.11.9-py3-none-any.whl.metadata (5.2 kB)\n",
            "Requirement already satisfied: setuptools in /usr/local/lib/python3.10/dist-packages (from lightning-utilities>=0.8.0->torchmetrics) (75.1.0)\n",
            "Requirement already satisfied: typing-extensions in /usr/local/lib/python3.10/dist-packages (from lightning-utilities>=0.8.0->torchmetrics) (4.12.2)\n",
            "Requirement already satisfied: filelock in /usr/local/lib/python3.10/dist-packages (from torch>=2.0.0->torchmetrics) (3.16.1)\n",
            "Requirement already satisfied: networkx in /usr/local/lib/python3.10/dist-packages (from torch>=2.0.0->torchmetrics) (3.4.2)\n",
            "Requirement already satisfied: jinja2 in /usr/local/lib/python3.10/dist-packages (from torch>=2.0.0->torchmetrics) (3.1.4)\n",
            "Requirement already satisfied: fsspec in /usr/local/lib/python3.10/dist-packages (from torch>=2.0.0->torchmetrics) (2024.10.0)\n",
            "Requirement already satisfied: sympy==1.13.1 in /usr/local/lib/python3.10/dist-packages (from torch>=2.0.0->torchmetrics) (1.13.1)\n",
            "Requirement already satisfied: mpmath<1.4,>=1.1.0 in /usr/local/lib/python3.10/dist-packages (from sympy==1.13.1->torch>=2.0.0->torchmetrics) (1.3.0)\n",
            "Requirement already satisfied: MarkupSafe>=2.0 in /usr/local/lib/python3.10/dist-packages (from jinja2->torch>=2.0.0->torchmetrics) (3.0.2)\n",
            "Downloading torchmetrics-1.6.0-py3-none-any.whl (926 kB)\n",
            "\u001b[2K   \u001b[90m━━━━━━━━━━━━━━━━━━━━━━━━━━━━━━━━━━━━━━━━\u001b[0m \u001b[32m926.4/926.4 kB\u001b[0m \u001b[31m1.9 MB/s\u001b[0m eta \u001b[36m0:00:00\u001b[0m\n",
            "\u001b[?25hDownloading lightning_utilities-0.11.9-py3-none-any.whl (28 kB)\n",
            "Installing collected packages: lightning-utilities, torchmetrics\n",
            "Successfully installed lightning-utilities-0.11.9 torchmetrics-1.6.0\n"
          ]
        }
      ],
      "source": [
        "# Download PACS Dataset Images\n",
        "!git clone https://github.com/MachineLearning2020/Homework3-PACS/\n",
        "!mv Homework3-PACS/PACS/ .\n",
        "!rm -r Homework3-PACS/\n",
        "\n",
        "# Download PACS Dataset Labels\n",
        "!git clone https://github.com/silvia1993/DANN_Template/\n",
        "!mv DANN_Template/txt_lists/art_painting.txt PACS/\n",
        "!mv DANN_Template/txt_lists/cartoon.txt PACS/\n",
        "!mv DANN_Template/txt_lists/photo.txt PACS/\n",
        "!mv DANN_Template/txt_lists/sketch.txt PACS/\n",
        "!rm -r DANN_Template/\n",
        "\n",
        "# Install additional libraries\n",
        "!pip install torchmetrics"
      ]
    },
    {
      "cell_type": "markdown",
      "source": [
        "**GLOBAL VARIABLES**"
      ],
      "metadata": {
        "id": "6BHbLv49Hm8u"
      }
    },
    {
      "cell_type": "code",
      "source": [
        "import torch\n",
        "\n",
        "DEVICE = 'cuda' if torch.cuda.is_available() else 'cpu'\n",
        "NUM_CLASSES = 7\n",
        "BATCH_SIZE = 256\n",
        "LR = 1e-3            # The initial Learning Rate\n",
        "MOMENTUM = 0.9       # Hyperparameter for SGD, keep this at 0.9 when using SGD\n",
        "WEIGHT_DECAY = 5e-5  # Regularization, you can keep this at the default\n",
        "NUM_EPOCHS = 30      # Total number of training epochs (iterations over dataset)\n",
        "STEP_SIZE = 20       # How many epochs before decreasing learning rate (if using a step-down policy)\n",
        "GAMMA = 0.1          # Multiplicative factor for learning rate step-down\n",
        "\n",
        "LOG_FREQUENCY = 10"
      ],
      "metadata": {
        "id": "5cnkqXhaHMGt"
      },
      "execution_count": null,
      "outputs": []
    },
    {
      "cell_type": "markdown",
      "source": [
        "**DATASET MANAGEMENT**"
      ],
      "metadata": {
        "id": "mrg-Ss56IZX9"
      }
    },
    {
      "cell_type": "code",
      "source": [
        "from torch.utils.data import Dataset\n",
        "import os\n",
        "\n",
        "from PIL import Image\n",
        "import sys\n",
        "\n",
        "\n",
        "def pil_loader(path):\n",
        "    # open path as file to avoid ResourceWarning (https://github.com/python-pillow/Pillow/issues/835)\n",
        "    with open(f\"/content/PACS/{path}\", 'rb') as f:\n",
        "        img = Image.open(f)\n",
        "        return img.convert('RGB')\n",
        "\n",
        "\n",
        "# Define the Dataset class\n",
        "class PACSDataset(Dataset):\n",
        "    def __init__(self, root= \"/content/PACS/\", source_domain=\"cartoon\" , dataset_transform=None):\n",
        "      super(PACSDataset, self).__init__( )\n",
        "\n",
        "      self.dataset_transform = dataset_transform\n",
        "\n",
        "      self.root=root\n",
        "      # root= /content/PACS/\n",
        "      self.data=[]\n",
        "      self.labels = []\n",
        "      path = self.root.split(\"/\")[0]\n",
        "\n",
        "      category_list = os.listdir(f\"{root}/{source_domain}/\")\n",
        "      self.category = {}\n",
        "      for i, e in enumerate(category_list):\n",
        "        self.category[e] = i\n",
        "\n",
        "      with open(f\"{root}/{source_domain}.txt\") as file:\n",
        "        lines = file.readlines()\n",
        "\n",
        "        for line in lines:\n",
        "          #print(line)\n",
        "          path, label = line.split()\n",
        "          self.data.append(path.strip())\n",
        "          self.labels.append(int(label))\n",
        "\n",
        "      #print(self)\n",
        "\n",
        "\n",
        "    def __len__(self):\n",
        "        return len(self.data)\n",
        "\n",
        "    def __getitem__(self, index):\n",
        "\n",
        "      image, label = pil_loader(self.data[index]), self.labels[index]\n",
        "\n",
        "      # Applies preprocessing when accessing the image\n",
        "      if self.dataset_transform is not None:\n",
        "          image = self.dataset_transform(image)\n",
        "\n",
        "      return image, label\n",
        "\n",
        "\n",
        "\n",
        "\n"
      ],
      "metadata": {
        "id": "mNB5VstJIcYf"
      },
      "execution_count": null,
      "outputs": []
    },
    {
      "cell_type": "markdown",
      "source": [
        "**ARCHITECTURE SETUP**"
      ],
      "metadata": {
        "id": "AWeVJrW2NiFM"
      }
    },
    {
      "cell_type": "code",
      "source": [
        "import torch.nn as nn\n",
        "\n",
        "# Define AlexNet architecture class\n",
        "class AlexNet(nn.Module):\n",
        "    def __init__(self, num_classes=1000):\n",
        "        super(AlexNet, self).__init__()\n",
        "        self.features = nn.Sequential(\n",
        "            nn.Conv2d(3, 64, kernel_size=11, stride=4, padding=2),\n",
        "            nn.ReLU(inplace=True),\n",
        "            nn.MaxPool2d(kernel_size=3, stride=2),\n",
        "            nn.Conv2d(64, 192, kernel_size=5, padding=2),\n",
        "            nn.ReLU(inplace=True),\n",
        "            nn.MaxPool2d(kernel_size=3, stride=2),\n",
        "            nn.Conv2d(192, 384, kernel_size=3, padding=1),\n",
        "            nn.ReLU(inplace=True),\n",
        "            nn.Conv2d(384, 256, kernel_size=3, padding=1),\n",
        "            nn.ReLU(inplace=True),\n",
        "            nn.Conv2d(256, 256, kernel_size=3, padding=1),\n",
        "            nn.ReLU(inplace=True),\n",
        "            nn.MaxPool2d(kernel_size=3, stride=2)\n",
        "        )\n",
        "        # Category classifier\n",
        "        self.classifier = nn.Sequential(\n",
        "            nn.Dropout(),\n",
        "            nn.Linear(256 * 6 * 6, 4096),\n",
        "            nn.ReLU(inplace=True),\n",
        "            nn.Dropout(),\n",
        "            nn.Linear(4096, 4096),\n",
        "            nn.ReLU(inplace=True),\n",
        "            nn.Linear(4096, num_classes)\n",
        "        )\n",
        "        # Domain classifier\n",
        "        self.domain_classifier = nn.Sequential(\n",
        "            nn.Dropout(),\n",
        "            nn.Linear(256 * 6 * 6, 4096),\n",
        "            nn.ReLU(inplace=True),\n",
        "            nn.Dropout(),\n",
        "            nn.Linear(4096, 4096),\n",
        "            nn.ReLU(inplace=True),\n",
        "            nn.Linear(4096, 2)\n",
        "        )\n",
        "\n",
        "    def forward(self, x):\n",
        "        features = self.features(x)\n",
        "        features = features.view(features.size(0), -1)\n",
        "        class_outputs = self.classifier(features)\n",
        "        domain_outputs = self.domain_classifier(features)\n",
        "        return class_outputs, domain_outputs"
      ],
      "metadata": {
        "id": "GB1UGpoSJL4w"
      },
      "execution_count": null,
      "outputs": []
    },
    {
      "cell_type": "markdown",
      "source": [
        "**OPTIMIZATION LOOP**"
      ],
      "metadata": {
        "id": "BFs2aJrQUjTd"
      }
    },
    {
      "cell_type": "code",
      "source": [
        "from torch.utils.data import DataLoader\n",
        "import torchvision.transforms as T\n",
        "from torchvision.models import AlexNet_Weights\n",
        "import torch.nn.functional as F\n",
        "from torchmetrics import Accuracy\n",
        "\n",
        "#### DATA SETUP\n",
        "# Define the transforms to use on images\n",
        "dataset_transform = T.Compose([\n",
        "    T.Resize(256),\n",
        "    T.CenterCrop(224),\n",
        "    T.ToTensor(),\n",
        "    T.Normalize([0.485, 0.456, 0.406], std=[0.229, 0.224, 0.225])\n",
        "])\n",
        "\n",
        "# Define the Dataset object for training & testing\n",
        "train_dataset = PACSDataset(source_domain=\"cartoon\", dataset_transform=dataset_transform)\n",
        "test_dataset = PACSDataset(source_domain=\"sketch\", dataset_transform=dataset_transform)\n",
        "\n",
        "# Define the DataLoaders\n",
        "train_loader = DataLoader(train_dataset, batch_size=BATCH_SIZE, shuffle=True, num_workers=4, drop_last=True)\n",
        "test_loader = DataLoader(test_dataset, batch_size=BATCH_SIZE, shuffle=True, num_workers=4, drop_last=True)\n",
        "\n",
        "LAMBDA = 0.005\n",
        "#### ARCHITECTURE SETUP\n",
        "# Create the Network Architecture object\n",
        "model = AlexNet()\n",
        "# Load pre-trained weights\n",
        "model.load_state_dict(AlexNet_Weights.IMAGENET1K_V1.get_state_dict(progress=True), strict = False)\n",
        "# Overwrite the final classifier layer as we only have 7 classes in PACS\n",
        "model.classifier[-1] = nn.Linear(4096, 7)\n",
        "\n",
        "\n",
        "#### TRAINING SETUP\n",
        "# Move model to device before passing it to the optimizer\n",
        "model = model.to(DEVICE)\n",
        "\n",
        "parameters_to_optimize = model.parameters() # In this case we optimize over all the parameters of AlexNet\n",
        "# Create Optimizer & Scheduler objects\n",
        "optimizer = torch.optim.SGD(parameters_to_optimize, lr=LR, momentum=MOMENTUM, weight_decay=WEIGHT_DECAY)\n",
        "scheduler = torch.optim.lr_scheduler.StepLR(optimizer, step_size=STEP_SIZE, gamma=GAMMA)\n",
        "\n",
        "\n",
        "#### TRAINING LOOP\n",
        "\n",
        "#cudnn.benchmark # Calling this optimizes runtime\n",
        "criterion = nn.CrossEntropyLoss()\n",
        "current_step = 0\n",
        "# Start iterating over the epochs\n",
        "for epoch in range(NUM_EPOCHS):\n",
        "  print('Starting epoch {}/{}, LR = {}'.format(epoch+1, NUM_EPOCHS, scheduler.get_lr()))\n",
        "\n",
        "  model.train() # Sets module in training mode\n",
        "  # Iterate over the dataset\n",
        "  for (images_train, labels_train ), (images_test, labels_test) in zip(train_loader, test_loader):\n",
        "    # Bring data over the device of choice\n",
        "    images_train = images_train.to(DEVICE)\n",
        "    labels_train = labels_train.to(DEVICE)\n",
        "    images_test = images_test.to(DEVICE)\n",
        "    labels_test = labels_test.to(DEVICE)\n",
        "\n",
        "\n",
        "\n",
        "    # PyTorch, by default, accumulates gradients after each backward pass\n",
        "    # We need to manually set the gradients to zero before starting a new iteration\n",
        "    optimizer.zero_grad() # Zero-ing the gradients\n",
        "\n",
        "    # Forward pass to the network\n",
        "\n",
        "    class_train , domain_train= model(images_train)\n",
        "    class_test , domain_test = model(images_test)\n",
        "    #print(class_train.dtype, class_train.shape)\n",
        "    #print(labels_train.dtype, labels_train.shape)\n",
        "    l1 = criterion(class_train, labels_train )\n",
        "    l2 = criterion(domain_train, torch.zeros( BATCH_SIZE, dtype = torch.long , device = DEVICE) )\n",
        "    l3 = criterion(domain_test, torch.ones(BATCH_SIZE,  dtype = torch.long , device = DEVICE) )\n",
        "\n",
        "    loss = l1 + LAMBDA * (l2 + l3)\n",
        "    # Compute loss based on output and ground truth\n",
        "\n",
        "\n",
        "    # Log loss\n",
        "    if current_step % LOG_FREQUENCY == 0:\n",
        "      print('Step {}, Loss {}'.format(current_step, loss.item()))\n",
        "\n",
        "    # Compute gradients for each layer and update weights\n",
        "    loss.backward()  # backward pass: computes gradients\n",
        "    optimizer.step() # update weights based on accumulated gradients\n",
        "\n",
        "    current_step += 1\n",
        "\n",
        "  # Step the scheduler\n",
        "  scheduler.step()\n",
        "\n",
        "#### TEST LOOP\n",
        "#...\n",
        "\n",
        "#print(f'\\nAccuracy on the target domain: {100 * accuracy:.2f}%')\n"
      ],
      "metadata": {
        "id": "qpS7tvk7OaPF",
        "colab": {
          "base_uri": "https://localhost:8080/",
          "height": 1000
        },
        "outputId": "3f4bbe57-d2b3-4c9c-a7b2-4a3b4729a7f7"
      },
      "execution_count": null,
      "outputs": [
        {
          "output_type": "stream",
          "name": "stdout",
          "text": [
            "Starting epoch 1/30, LR = [0.001]\n",
            "Step 0, Loss 2.240873098373413\n",
            "Starting epoch 2/30, LR = [0.001]\n",
            "Step 10, Loss 0.7778012752532959\n",
            "Starting epoch 3/30, LR = [0.001]\n",
            "Step 20, Loss 0.5549272894859314\n",
            "Starting epoch 4/30, LR = [0.001]\n",
            "Step 30, Loss 0.39965537190437317\n",
            "Starting epoch 5/30, LR = [0.001]\n",
            "Step 40, Loss 0.33125758171081543\n",
            "Starting epoch 6/30, LR = [0.001]\n",
            "Step 50, Loss 0.22160929441452026\n",
            "Starting epoch 7/30, LR = [0.001]\n",
            "Step 60, Loss 0.21189571917057037\n",
            "Starting epoch 8/30, LR = [0.001]\n",
            "Step 70, Loss 0.21226322650909424\n",
            "Starting epoch 9/30, LR = [0.001]\n",
            "Step 80, Loss 0.19505062699317932\n",
            "Starting epoch 10/30, LR = [0.001]\n",
            "Starting epoch 11/30, LR = [0.001]\n",
            "Step 90, Loss 0.1919592022895813\n",
            "Starting epoch 12/30, LR = [0.001]\n",
            "Step 100, Loss 0.11975648254156113\n",
            "Starting epoch 13/30, LR = [0.001]\n",
            "Step 110, Loss 0.10888698697090149\n",
            "Starting epoch 14/30, LR = [0.001]\n",
            "Step 120, Loss 0.14225244522094727\n",
            "Starting epoch 15/30, LR = [0.001]\n",
            "Step 130, Loss 0.11249377578496933\n",
            "Starting epoch 16/30, LR = [0.001]\n",
            "Step 140, Loss 0.08137708157300949\n",
            "Starting epoch 17/30, LR = [0.001]\n",
            "Step 150, Loss 0.07800358533859253\n",
            "Starting epoch 18/30, LR = [0.001]\n",
            "Step 160, Loss 0.07731465250253677\n",
            "Starting epoch 19/30, LR = [0.001]\n",
            "Step 170, Loss 0.08351408690214157\n",
            "Starting epoch 20/30, LR = [0.001]\n",
            "Starting epoch 21/30, LR = [1e-05]\n",
            "Step 180, Loss 0.07831793278455734\n",
            "Starting epoch 22/30, LR = [0.0001]\n",
            "Step 190, Loss 0.057512346655130386\n",
            "Starting epoch 23/30, LR = [0.0001]\n",
            "Step 200, Loss 0.04893827065825462\n",
            "Starting epoch 24/30, LR = [0.0001]\n",
            "Step 210, Loss 0.03515220433473587\n",
            "Starting epoch 25/30, LR = [0.0001]\n",
            "Step 220, Loss 0.04481981694698334\n",
            "Starting epoch 26/30, LR = [0.0001]\n",
            "Step 230, Loss 0.05835189297795296\n",
            "Starting epoch 27/30, LR = [0.0001]\n",
            "Step 240, Loss 0.054332103580236435\n",
            "Starting epoch 28/30, LR = [0.0001]\n",
            "Step 250, Loss 0.05759496986865997\n",
            "Starting epoch 29/30, LR = [0.0001]\n",
            "Step 260, Loss 0.05118679255247116\n",
            "Starting epoch 30/30, LR = [0.0001]\n"
          ]
        },
        {
          "output_type": "error",
          "ename": "NameError",
          "evalue": "name 'accuracy' is not defined",
          "traceback": [
            "\u001b[0;31m---------------------------------------------------------------------------\u001b[0m",
            "\u001b[0;31mNameError\u001b[0m                                 Traceback (most recent call last)",
            "\u001b[0;32m<ipython-input-25-b255acdb736b>\u001b[0m in \u001b[0;36m<cell line: 98>\u001b[0;34m()\u001b[0m\n\u001b[1;32m     96\u001b[0m \u001b[0;31m#...\u001b[0m\u001b[0;34m\u001b[0m\u001b[0;34m\u001b[0m\u001b[0m\n\u001b[1;32m     97\u001b[0m \u001b[0;34m\u001b[0m\u001b[0m\n\u001b[0;32m---> 98\u001b[0;31m \u001b[0mprint\u001b[0m\u001b[0;34m(\u001b[0m\u001b[0;34mf'\\nAccuracy on the target domain: {100 * accuracy:.2f}%'\u001b[0m\u001b[0;34m)\u001b[0m\u001b[0;34m\u001b[0m\u001b[0;34m\u001b[0m\u001b[0m\n\u001b[0m",
            "\u001b[0;31mNameError\u001b[0m: name 'accuracy' is not defined"
          ]
        }
      ]
    },
    {
      "cell_type": "code",
      "source": [
        "model.to(DEVICE) # this will bring the network to GPU if DEVICE is cuda\n",
        "model.train(False) # Set Network to evaluation mode\n",
        "\n",
        "running_corrects = 0\n",
        "for images, labels in test_loader:\n",
        "  images = images.to(DEVICE)\n",
        "  labels = labels.to(DEVICE)\n",
        "\n",
        "  # Forward Pass\n",
        "  outputs = model(images)\n",
        "\n",
        "  # Get predictions\n",
        "  _, preds = torch.max(outputs[0], 1)\n",
        "\n",
        "  # Update Corrects\n",
        "  running_corrects += torch.sum(preds == labels).item()\n",
        "\n",
        "# Calculate Accuracy\n",
        "accuracy = running_corrects / float(len(test_dataset)) * 100\n",
        "\n",
        "print('Test Accuracy: {}'.format(accuracy))"
      ],
      "metadata": {
        "id": "Zx6Oe754VzUf",
        "colab": {
          "base_uri": "https://localhost:8080/"
        },
        "outputId": "5df2842e-b415-436f-adc5-bb1607762d91"
      },
      "execution_count": null,
      "outputs": [
        {
          "output_type": "stream",
          "name": "stdout",
          "text": [
            "Test Accuracy: 45.94044286077882\n"
          ]
        }
      ]
    }
  ]
}